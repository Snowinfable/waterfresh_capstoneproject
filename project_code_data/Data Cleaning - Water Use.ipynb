{
 "cells": [
  {
   "cell_type": "code",
   "execution_count": 1,
   "id": "ef1846e1",
   "metadata": {},
   "outputs": [],
   "source": [
    "import pandas as pd\n",
    "import numpy as np\n",
    "from sklearn.linear_model import LinearRegression\n",
    "#pd.set_option('display.max_columns', None)"
   ]
  },
  {
   "cell_type": "code",
   "execution_count": 3,
   "id": "d1cced09",
   "metadata": {},
   "outputs": [],
   "source": [
    "usco2000 = pd.read_csv('usco2000.csv', dtype = str)\n",
    "usco2005 = pd.read_csv('usco2005.csv', dtype = str)\n",
    "usco2010 = pd.read_csv('usco2010.csv', dtype = str)\n",
    "usco2015 = pd.read_csv('usco2015v2.0.csv', dtype = str)\n",
    "usco2015.columns = usco2015.loc[0,:]\n",
    "usco2015 = usco2015.iloc[1:]"
   ]
  },
  {
   "cell_type": "markdown",
   "id": "1b6498a4",
   "metadata": {},
   "source": [
    "Drop fully null columns, drop Puerto Rico and Virgin Islands"
   ]
  },
  {
   "cell_type": "code",
   "execution_count": 4,
   "id": "b064d9f9",
   "metadata": {},
   "outputs": [],
   "source": [
    "usco2000 = usco2000.dropna(subset = ['STATEFIPS'])\n",
    "usco2005 = usco2005.dropna(subset = ['STATEFIPS'])\n",
    "usco2010 = usco2010.dropna(subset = ['STATEFIPS'])\n",
    "usco2015 = usco2015.dropna(subset = ['STATEFIPS'])"
   ]
  },
  {
   "cell_type": "code",
   "execution_count": 5,
   "id": "c068f730",
   "metadata": {},
   "outputs": [],
   "source": [
    "usco2000 = usco2000[usco2000['STATEFIPS'].astype(int) <= 56]\n",
    "usco2005 = usco2005[usco2005['STATEFIPS'].astype(int) <= 56]\n",
    "usco2010 = usco2010[usco2010['STATEFIPS'].astype(int) <= 56]\n",
    "usco2015 = usco2015[usco2015['STATEFIPS'].astype(int) <= 56]"
   ]
  },
  {
   "cell_type": "markdown",
   "id": "c7cfeb9b",
   "metadata": {},
   "source": [
    "Manually listed columns that appear differently in the four datasets"
   ]
  },
  {
   "cell_type": "code",
   "execution_count": 6,
   "id": "e4df1b1d",
   "metadata": {},
   "outputs": [],
   "source": [
    "#columns that appear in all datasets, written the same way each time\n",
    "in_all = ['STATE', 'STATEFIPS', 'COUNTYFIPS', 'FIPS', 'TP-TotPop', 'PS-TOPop', 'PS-WGWFr', 'PS-WSWFr', 'PS-WFrTo', \n",
    "          'DO-SSPop','DO-WGWFr','DO-WSWFr','DO-WFrTo', 'DO-PSDel', 'IN-WGWFr','IN-WGWSa','IN-WGWTo','IN-WSWFr','IN-WSWSa',\n",
    "          'IN-WSWTo','IN-WFrTo','IN-WSaTo','IN-Wtotl', 'MI-WGWFr', 'MI-WGWSa', 'MI-WGWTo', 'MI-WSWFr', 'MI-WSWSa', \n",
    "          'MI-WSWTo', 'MI-WFrTo', 'MI-WSaTo', 'MI-Wtotl', 'PO-WSWFr', 'PO-WSWSa', 'PO-WSWTo', 'TO-WGWFr', 'TO-WGWSa',\n",
    "          'TO-WGWTo', 'TO-WSWFr', 'TO-WSWSa', 'TO-WSWTo', 'TO-WFrTo', 'TO-WSaTo', 'TO-WTotl'\n",
    "         ]\n",
    "\n",
    "#only usco2000 does not have these columns\n",
    "missing_2000 = ['PS-GWPop', 'PS-SWPop', 'PS-WGWSa', 'PS-WGWTo', 'PS-WSWSa', 'PS-WSWTo', 'PS-WSaTo','PS-Wtotl',\n",
    "                'IC-WGWFr', 'IC-WSWFr', 'IC-WFrTo', 'IC-IrSpr', 'IC-IrMic', 'IC-IrSur', 'IC-IrTot', 'IG-WGWFr', \n",
    "                'IG-WSWFr', 'IG-WFrTo', 'IG-IrSpr', 'IG-IrMic', 'IG-IrSur', 'IG-IrTot', 'PT-WGWSa', 'PT-WGWTo', \n",
    "                'PT-Power', 'PO-WGWFr', 'PO-WGWSa', 'PO-WGWTo', 'PO-WFrTo', 'PO-WSaTo', 'PO-Wtotl', 'PO-Power',\n",
    "                'PC-WGWSa', 'PC-WGWTo', 'PC-Power', 'DO-WDelv', 'DO-PSDel', 'IR-WSWFr'\n",
    "               ]\n",
    "\n",
    "#both usco2000 and usco2005 do not have these columns.\n",
    "missing_2000_and_2005 = ['DO-SSPCp', 'DO-PSPCp', 'AQ-WGWSa', 'AQ-WGWTo', 'AQ-WSWSa', 'AQ-WSWTo', 'AQ-WSaTo', 'AQ-Wtotl']\n",
    "\n",
    "#columns that only appear in usco2015\n",
    "only_in_2015 = ['IR-RecWW', 'IR-CUsFr', 'IC-RecWW', 'IC-CUsFr', 'IG-RecWW', 'IG-CUsFr', 'PT-RecWW', 'PT-PSDel', \n",
    "                'PT-CUsFr','PT-CUsSa','PT-CUTot', 'PO-RecWW', 'PO-PSDel', 'PO-CUsFr', 'PO-CUsSa', 'PO-CUTot', 'PC-RecWW', \n",
    "                'PC-PSDel','PC-CUsFr', 'PC-CUsSa', 'PC-CUTot', 'TO-CUsFrPartial', 'TO-CUsSaPartial', 'TO-CUTotPartial',\n",
    "               ]\n",
    "\n",
    "#change these column names in the usco2000 dataset to match with other dataets\n",
    "dict_2000_change = {'IT-IrSpr':'IR-IrSpr', 'IT-IrMic': 'IR-IrMic', 'IT-IrSur': 'IR-IrSur', 'IT-IrTot': 'IR-IrTot',\n",
    "                    'IT-WGWFr': 'IR-WGWFr', 'IT-WSWFr':'IR-WSWFr', 'IT-WFrTo': 'IR-WFrTo', 'LS-WGWFr':'LI-WGWFr',\n",
    "                    'LS-WSWFr': 'LI-WSWFr', 'LS-WFrTo': 'LI-WFrTo', 'LA-WGWFr': 'AQ-WGWFr', 'LA-WSWFr':'AQ-WSWFr',\n",
    "                    'LA-WFrTo':'AQ-WFrTo', 'PE-WGWFr':'PC-WGWFr', 'PE-WSWFr':'PC-WSWFr', 'PE-WSWSa':'PC-WSWSa', \n",
    "                    'PE-WSWTo':'PC-WSWTo', 'PE-WFrTo':'PC-WFrTo', 'PE-WSaTo':'PC-WSaTo', 'PE-Wtotl':'PC-Wtotl',\n",
    "                    'TO-WTotl': 'TO-Wtotl'\n",
    "                   }\n",
    "\n",
    "#change these column names in the usco2005 dataset to match with other dataets\n",
    "dict_2005_change = {'LS-WGWFr':'LI-WGWFr', 'LS-WSWFr': 'LI-WSWFr', 'LS-WFrTo': 'LI-WFrTo', 'LA-WGWFr': 'AQ-WGWFr', \n",
    "                    'LA-WSWFr':'AQ-WSWFr', 'LA-WFrTo':'AQ-WFrTo', 'DO-TOTAL ': 'DO-WDelv', 'PO-WTotl': 'PO-Wtotl',\n",
    "                    'PC-WTotl':'PC-Wtotl', 'TO-WTotl': 'TO-Wtotl'\n",
    "                   }\n",
    "\n",
    "#change this column name in the usco2010 dataset to match with other dataets\n",
    "dict_2010_change = {'DO-TOTAL ':'DO-WDelv', 'AQ-WTotl': 'AQ-Wtotl', 'PO-WTotl': 'PO-Wtotl', 'PC-WTotl':'PC-Wtotl',\n",
    "                    'TO-WTotl': 'TO-Wtotl'}"
   ]
  },
  {
   "cell_type": "code",
   "execution_count": 7,
   "id": "c304498e",
   "metadata": {},
   "outputs": [],
   "source": [
    "usco2000 = usco2000.rename(columns=dict_2000_change)\n",
    "usco2005 = usco2005.rename(columns=dict_2005_change)\n",
    "usco2010 = usco2010.rename(columns=dict_2010_change)\n",
    "usco2015 = usco2015.rename(columns = {'DO-WDelv ': 'DO-WDelv'})"
   ]
  },
  {
   "cell_type": "markdown",
   "id": "189fabfa",
   "metadata": {},
   "source": [
    "## Replace missing values to np.nan"
   ]
  },
  {
   "cell_type": "code",
   "execution_count": 8,
   "id": "c56d5d69",
   "metadata": {},
   "outputs": [],
   "source": [
    "usco2015.replace('--', value = np.NaN, inplace = True)"
   ]
  },
  {
   "cell_type": "markdown",
   "id": "e1a75763",
   "metadata": {},
   "source": [
    "Filter out columns we do not want"
   ]
  },
  {
   "cell_type": "code",
   "execution_count": 9,
   "id": "21bbb893",
   "metadata": {},
   "outputs": [],
   "source": [
    "power_out = ['PT-Power', 'PO-Power', 'PC-Power']\n",
    "pop_out = ['PS-GWPop', 'PS-SWPop',]\n",
    "irrigation = ['IC-WGWFr', 'IC-WSWFr', 'IC-WFrTo', 'IC-RecWW', 'IC-CUsFr', 'IC-IrSpr', \n",
    "              'IC-IrMic', 'IC-IrSur', 'IC-IrTot', 'IG-WGWFr', 'IG-WSWFr', 'IG-WFrTo', \n",
    "              'IG-RecWW', 'IG-CUsFr', 'IG-IrSpr', 'IG-IrMic', 'IG-IrSur', 'IG-IrTot']\n",
    "totals = []"
   ]
  },
  {
   "cell_type": "markdown",
   "id": "db91467b",
   "metadata": {},
   "source": [
    "Run below block to remove possibly redundant \"totals\" colums. We removed totals for the model in the report."
   ]
  },
  {
   "cell_type": "code",
   "execution_count": 10,
   "id": "b7c58168",
   "metadata": {},
   "outputs": [],
   "source": [
    "totals = ['PS-TOPop', 'PS-WGWTo', 'PS-Wtotl', 'PS-WGWTo', 'PS-WSWTo', 'PS-Wtotl', 'IN-WGWTo', 'IN-WSWTo', \n",
    "          'IN-Wtotl', 'IC-IrTot', 'IG-IrTot', 'AQ-WGWTo', 'AQ-WSWTo', 'AQ-Wtotl', 'MI-WGWTo', 'MI-WSWTo', \n",
    "          'MI-Wtotl', 'PT-WGWTo', 'PT-WSWTo', 'PT-Wtotl', 'PO-WGWTo', 'PO-WSWTo', 'PO-Wtotl', 'PC-WGWTo', \n",
    "          'PC-WSWTo', 'PC-Wtotl', 'TO-WGWTo', 'TO-WSWTo', 'TO-Wtotl'\n",
    "         ]"
   ]
  },
  {
   "cell_type": "markdown",
   "id": "39d53c19",
   "metadata": {},
   "source": [
    "Remove columns here"
   ]
  },
  {
   "cell_type": "code",
   "execution_count": 11,
   "id": "6880e654",
   "metadata": {},
   "outputs": [],
   "source": [
    "remove_columns = missing_2000_and_2005 + only_in_2015 + pop_out + irrigation + power_out + ['YEAR'] + totals \n",
    "cols_2015 = list(usco2015.columns)\n",
    "columns_interest = [col for col in cols_2015 if col not in remove_columns]"
   ]
  },
  {
   "cell_type": "markdown",
   "id": "7c86dfd7",
   "metadata": {},
   "source": [
    "See which counties are not represented in all four datasets. These include newly designated or former counties. We will drop them."
   ]
  },
  {
   "cell_type": "code",
   "execution_count": 12,
   "id": "0d3d2d19",
   "metadata": {},
   "outputs": [],
   "source": [
    "fips_count_dict = {}\n",
    "for df in [(usco2000, 2000), (usco2005, 2005), (usco2010,2010), (usco2015,2015)]:\n",
    "    for i, row in df[0].iterrows():\n",
    "        fips = row['FIPS']\n",
    "        if fips in fips_count_dict:\n",
    "            fips_count_dict[fips].append(df[1])\n",
    "        else:\n",
    "            fips_count_dict[fips] = [df[1]]\n",
    "            \n",
    "partial_counties = []\n",
    "for key, val in fips_count_dict.items():\n",
    "    if len(val)<4:\n",
    "        partial_counties.append(key)"
   ]
  },
  {
   "cell_type": "markdown",
   "id": "f41095c7",
   "metadata": {},
   "source": [
    "#### Calculate slopes and means for each data column. Reformat into single dataframe"
   ]
  },
  {
   "cell_type": "code",
   "execution_count": null,
   "id": "d6b13884",
   "metadata": {},
   "outputs": [],
   "source": [
    "fips_list = list(fips_count_dict.keys())\n",
    "df_list = [usco2000, usco2005, usco2010, usco2015]\n",
    "new_dict = {}\n",
    "c = 0\n",
    "for i, row in usco2015.iterrows():\n",
    "    c +=1\n",
    "    if c % 100 == 0:\n",
    "        print(c)\n",
    "        \n",
    "    fips = row['FIPS']\n",
    "    if fips in partial_counties:\n",
    "        continue\n",
    "        \n",
    "    county_dict = {}\n",
    "    for col in columns_interest:\n",
    "        if col in ['STATE','STATEFIPS','COUNTY','COUNTYFIPS','FIPS']:\n",
    "            county_dict[col] = row[col]\n",
    "            continue\n",
    "        \n",
    "        #calculate the slope of the data column across the four datasets, and find the mean value.\n",
    "        data = []\n",
    "        temp_count = 0\n",
    "        for df in df_list:\n",
    "            \n",
    "            if col not in list(df.columns):\n",
    "                continue\n",
    "            \n",
    "            fips_data = df[df['FIPS'] == fips]\n",
    "            fips_data = fips_data.reset_index()\n",
    "            col_val = fips_data.loc[0, col]\n",
    "            if pd.isna(col_val) == True:\n",
    "                continue\n",
    "            \n",
    "            data.append(float(col_val))\n",
    "            temp_count +=1\n",
    "        \n",
    "        if temp_count == 1:\n",
    "            print(fips, col)\n",
    "            \n",
    "        #run sklearn linear regression\n",
    "        x = np.array(list(range(temp_count))).reshape(-1,1)\n",
    "        y = np.array(data).reshape(-1,1)\n",
    "        linreg = LinearRegression().fit(x, data)            \n",
    "        slope = linreg.coef_[0]\n",
    "        \n",
    "        county_dict[col + '_mean'] = np.mean(data)\n",
    "        county_dict[col + '_slope'] = slope\n",
    "    \n",
    "    new_dict[fips] = county_dict"
   ]
  },
  {
   "cell_type": "code",
   "execution_count": 15,
   "id": "b7cc60f9",
   "metadata": {},
   "outputs": [],
   "source": [
    "export_df = pd.DataFrame(new_dict).T"
   ]
  },
  {
   "cell_type": "markdown",
   "id": "d4d9bf5d",
   "metadata": {},
   "source": [
    "export the dataframe"
   ]
  },
  {
   "cell_type": "code",
   "execution_count": 63,
   "id": "f9df85c1",
   "metadata": {},
   "outputs": [],
   "source": [
    "#export_df.to_csv('water-use_cleaned.csv', index = False)\n",
    "export_df.to_csv('water-use_cleaned_totals-removed.csv', index = False)"
   ]
  },
  {
   "cell_type": "code",
   "execution_count": null,
   "id": "49ad7436",
   "metadata": {},
   "outputs": [],
   "source": []
  }
 ],
 "metadata": {
  "kernelspec": {
   "display_name": "Python 3 (ipykernel)",
   "language": "python",
   "name": "python3"
  },
  "language_info": {
   "codemirror_mode": {
    "name": "ipython",
    "version": 3
   },
   "file_extension": ".py",
   "mimetype": "text/x-python",
   "name": "python",
   "nbconvert_exporter": "python",
   "pygments_lexer": "ipython3",
   "version": "3.11.4"
  }
 },
 "nbformat": 4,
 "nbformat_minor": 5
}
