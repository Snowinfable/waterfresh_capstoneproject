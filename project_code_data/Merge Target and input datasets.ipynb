{
 "cells": [
  {
   "cell_type": "code",
   "execution_count": 1,
   "id": "6d302aef",
   "metadata": {},
   "outputs": [],
   "source": [
    "import pandas as pd\n",
    "import numpy as np\n",
    "pd.set_option('display.max_columns', None)"
   ]
  },
  {
   "cell_type": "code",
   "execution_count": 2,
   "id": "7dadbbcd",
   "metadata": {},
   "outputs": [],
   "source": [
    "trends = pd.read_csv('merge_data/trends_clean.csv')\n",
    "trends = trends.dropna(subset = ['merge_data/county_fips'])\n",
    "evapotranspiration = pd.read_csv('merge_data/et_cleaned.csv')\n",
    "\n",
    "#Climate dataset without cooling and heating days included. Use 'climate_all_data_clean.csv' to include them.\n",
    "climate = pd.read_csv('merge_data/climate_all_data_clean_without_heat-cool-days.csv')\n",
    "\n",
    "#Water use dataset without potentially redundant 'totals' columns. Use 'water-use_cleaned.csv' to include them.\n",
    "water_use = pd.read_csv('merge_data/water-use_cleaned_totals-removed.csv')"
   ]
  },
  {
   "cell_type": "code",
   "execution_count": 3,
   "id": "7c419d76",
   "metadata": {},
   "outputs": [],
   "source": [
    "water_use['FIPS'] = water_use['FIPS'].astype(str)\n",
    "trends['county_fips'] = trends['county_fips'].astype(int)\n",
    "trends['county_fips'] = trends['county_fips'].astype(str)\n",
    "climate['county_fips'] = climate['county_fips'].astype(int)\n",
    "climate['county_fips'] = climate['county_fips'].astype(str)"
   ]
  },
  {
   "cell_type": "code",
   "execution_count": 4,
   "id": "e8f2948b",
   "metadata": {},
   "outputs": [],
   "source": [
    "#if CSV files are causing issues with keeping the fips codes as strings, this code will need to run to add leading 0\n",
    "for i, row in trends.iterrows():\n",
    "    fips = row['county_fips']\n",
    "    if len(fips)== 4:\n",
    "        trends.loc[i, 'county_fips'] = '0' + fips\n",
    "\n",
    "for i, row in water_use.iterrows():\n",
    "    fips = row['FIPS']\n",
    "    if len(fips)== 4:\n",
    "        water_use.loc[i, 'FIPS'] = '0' + fips\n",
    "        \n",
    "for i, row in climate.iterrows():\n",
    "    fips = row['county_fips']\n",
    "    if len(fips)== 4:\n",
    "        climate.loc[i, 'county_fips'] = '0' + fips"
   ]
  },
  {
   "cell_type": "markdown",
   "id": "9bd2d73e",
   "metadata": {},
   "source": [
    "Now, we merge all of the datasets"
   ]
  },
  {
   "cell_type": "code",
   "execution_count": 5,
   "id": "4873173e",
   "metadata": {},
   "outputs": [],
   "source": [
    "trends_select = trends[['site_id','slope', 'decadal_change', 'aquifer_type_id', 'well_depth', 'county_fips']]"
   ]
  },
  {
   "cell_type": "code",
   "execution_count": 6,
   "id": "1c218abe",
   "metadata": {},
   "outputs": [],
   "source": [
    "water_use.rename(columns={'FIPS': 'county_fips'}, inplace = True)\n",
    "merged_df = trends_select.merge(water_use, how = 'left', on = 'county_fips')\n",
    "merged_df = merged_df.merge(climate, how = 'left', on = 'county_fips')\n",
    "merged_df = merged_df.merge(evapotranspiration, how = 'left', on = 'site_id')"
   ]
  },
  {
   "cell_type": "code",
   "execution_count": 7,
   "id": "15fc49ae",
   "metadata": {},
   "outputs": [],
   "source": [
    "#replace missing well depth values with mean\n",
    "rep = merged_df['well_depth'].mean()\n",
    "merged_df['well_depth']= merged_df['well_depth'].fillna(rep)\n",
    "\n",
    "merged_df = merged_df.drop(columns = ['site_id', 'STATE', 'COUNTY', 'STATEFIPS', 'COUNTYFIPS'], axis = 1)\n",
    "merged_df.to_csv('final_without_totals_visuals.csv', index = False)"
   ]
  },
  {
   "cell_type": "code",
   "execution_count": null,
   "id": "5994d6d4",
   "metadata": {},
   "outputs": [],
   "source": []
  }
 ],
 "metadata": {
  "kernelspec": {
   "display_name": "Python 3 (ipykernel)",
   "language": "python",
   "name": "python3"
  },
  "language_info": {
   "codemirror_mode": {
    "name": "ipython",
    "version": 3
   },
   "file_extension": ".py",
   "mimetype": "text/x-python",
   "name": "python",
   "nbconvert_exporter": "python",
   "pygments_lexer": "ipython3",
   "version": "3.11.4"
  }
 },
 "nbformat": 4,
 "nbformat_minor": 5
}
